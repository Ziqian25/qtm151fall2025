{
 "cells": [
  {
   "cell_type": "markdown",
   "id": "5b3c3244",
   "metadata": {},
   "source": [
    "### This is my first Jupyter Notebook"
   ]
  },
  {
   "cell_type": "markdown",
   "id": "4b811cc3",
   "metadata": {},
   "source": [
    "## This is my first Jupyter Notebook"
   ]
  },
  {
   "cell_type": "code",
   "execution_count": 4,
   "id": "f80fbdce",
   "metadata": {},
   "outputs": [
    {
     "name": "stdout",
     "output_type": "stream",
     "text": [
      "My name is Ziqian Tan\n"
     ]
    }
   ],
   "source": [
    "print('My name is Ziqian Tan')"
   ]
  },
  {
   "cell_type": "code",
   "execution_count": null,
   "id": "d486e7d4",
   "metadata": {},
   "outputs": [],
   "source": []
  }
 ],
 "metadata": {
  "kernelspec": {
   "display_name": "base",
   "language": "python",
   "name": "python3"
  },
  "language_info": {
   "codemirror_mode": {
    "name": "ipython",
    "version": 3
   },
   "file_extension": ".py",
   "mimetype": "text/x-python",
   "name": "python",
   "nbconvert_exporter": "python",
   "pygments_lexer": "ipython3",
   "version": "3.13.5"
  }
 },
 "nbformat": 4,
 "nbformat_minor": 5
}
